{
 "cells": [
  {
   "cell_type": "code",
   "execution_count": 1,
   "metadata": {},
   "outputs": [],
   "source": [
    "import json\n",
    "import pandas as pd\n",
    "from sklearn.preprocessing import StandardScaler, LabelEncoder\n",
    "from sklearn.model_selection import GridSearchCV\n",
    "from sklearn.ensemble import BaggingRegressor, AdaBoostRegressor, RandomForestRegressor, GradientBoostingRegressor\n",
    "from sklearn.linear_model import BayesianRidge, Lasso, Ridge\n",
    "from sklearn.svm import SVR"
   ]
  },
  {
   "cell_type": "markdown",
   "metadata": {},
   "source": [
    "### Preprocessing:"
   ]
  },
  {
   "cell_type": "code",
   "execution_count": 2,
   "metadata": {},
   "outputs": [
    {
     "data": {
      "text/html": [
       "<div>\n",
       "<style scoped>\n",
       "    .dataframe tbody tr th:only-of-type {\n",
       "        vertical-align: middle;\n",
       "    }\n",
       "\n",
       "    .dataframe tbody tr th {\n",
       "        vertical-align: top;\n",
       "    }\n",
       "\n",
       "    .dataframe thead th {\n",
       "        text-align: right;\n",
       "    }\n",
       "</style>\n",
       "<table border=\"1\" class=\"dataframe\">\n",
       "  <thead>\n",
       "    <tr style=\"text-align: right;\">\n",
       "      <th></th>\n",
       "      <th>Course Code</th>\n",
       "      <th>Course Title</th>\n",
       "      <th>Student Number</th>\n",
       "      <th>Department Code</th>\n",
       "      <th>Course Level</th>\n",
       "      <th>Letter Grade</th>\n",
       "      <th>Status</th>\n",
       "      <th>GPA</th>\n",
       "      <th>Standing</th>\n",
       "      <th>Completed Credits</th>\n",
       "      <th>...</th>\n",
       "      <th>C rate</th>\n",
       "      <th>C- rate</th>\n",
       "      <th>D+ rate</th>\n",
       "      <th>D rate</th>\n",
       "      <th>D- rate</th>\n",
       "      <th>F rate</th>\n",
       "      <th>Mean GPA - Students taken</th>\n",
       "      <th>Mean Grade - Students taken</th>\n",
       "      <th>STDEV GPA - Students taken</th>\n",
       "      <th>STDEV Grade - Students taken</th>\n",
       "    </tr>\n",
       "  </thead>\n",
       "  <tbody>\n",
       "    <tr>\n",
       "      <th>0</th>\n",
       "      <td>MGT 511</td>\n",
       "      <td>Küresel Yönetim Düşüncesi</td>\n",
       "      <td>1182</td>\n",
       "      <td>MBA/NT</td>\n",
       "      <td>Graduate</td>\n",
       "      <td>A-</td>\n",
       "      <td>Successful</td>\n",
       "      <td>3.54</td>\n",
       "      <td>Freshman</td>\n",
       "      <td>15</td>\n",
       "      <td>...</td>\n",
       "      <td>0.000000</td>\n",
       "      <td>0.000000</td>\n",
       "      <td>0.00000</td>\n",
       "      <td>0.000000</td>\n",
       "      <td>0.000000</td>\n",
       "      <td>0.018868</td>\n",
       "      <td>3.363396</td>\n",
       "      <td>3.479245</td>\n",
       "      <td>0.583240</td>\n",
       "      <td>0.712352</td>\n",
       "    </tr>\n",
       "    <tr>\n",
       "      <th>1</th>\n",
       "      <td>UNI 123</td>\n",
       "      <td>Textual Analysis and Effective Communication</td>\n",
       "      <td>134</td>\n",
       "      <td>EE</td>\n",
       "      <td>Undergraduate</td>\n",
       "      <td>C-</td>\n",
       "      <td>Successful</td>\n",
       "      <td>3.67</td>\n",
       "      <td>Freshman</td>\n",
       "      <td>18</td>\n",
       "      <td>...</td>\n",
       "      <td>0.045161</td>\n",
       "      <td>0.051613</td>\n",
       "      <td>0.03871</td>\n",
       "      <td>0.058065</td>\n",
       "      <td>0.032258</td>\n",
       "      <td>0.187097</td>\n",
       "      <td>2.410000</td>\n",
       "      <td>2.178710</td>\n",
       "      <td>1.082217</td>\n",
       "      <td>1.378734</td>\n",
       "    </tr>\n",
       "    <tr>\n",
       "      <th>2</th>\n",
       "      <td>UNI 115</td>\n",
       "      <td>Turkish for International Students I</td>\n",
       "      <td>217</td>\n",
       "      <td>CTV</td>\n",
       "      <td>Undergraduate</td>\n",
       "      <td>A-</td>\n",
       "      <td>Successful</td>\n",
       "      <td>3.70</td>\n",
       "      <td>Freshman</td>\n",
       "      <td>3</td>\n",
       "      <td>...</td>\n",
       "      <td>0.000000</td>\n",
       "      <td>0.000000</td>\n",
       "      <td>0.00000</td>\n",
       "      <td>0.000000</td>\n",
       "      <td>0.000000</td>\n",
       "      <td>0.048780</td>\n",
       "      <td>2.892927</td>\n",
       "      <td>3.360976</td>\n",
       "      <td>1.048528</td>\n",
       "      <td>0.917845</td>\n",
       "    </tr>\n",
       "    <tr>\n",
       "      <th>3</th>\n",
       "      <td>MGT 511</td>\n",
       "      <td>Küresel Yönetim Düşüncesi</td>\n",
       "      <td>1227</td>\n",
       "      <td>MBA/NT</td>\n",
       "      <td>Graduate</td>\n",
       "      <td>B</td>\n",
       "      <td>Successful</td>\n",
       "      <td>3.00</td>\n",
       "      <td>Freshman</td>\n",
       "      <td>15</td>\n",
       "      <td>...</td>\n",
       "      <td>0.000000</td>\n",
       "      <td>0.000000</td>\n",
       "      <td>0.00000</td>\n",
       "      <td>0.000000</td>\n",
       "      <td>0.000000</td>\n",
       "      <td>0.018868</td>\n",
       "      <td>3.363396</td>\n",
       "      <td>3.479245</td>\n",
       "      <td>0.583240</td>\n",
       "      <td>0.712352</td>\n",
       "    </tr>\n",
       "    <tr>\n",
       "      <th>4</th>\n",
       "      <td>MGT 541</td>\n",
       "      <td>Uluslararası Pazarlama</td>\n",
       "      <td>1225</td>\n",
       "      <td>MBA/NT</td>\n",
       "      <td>Graduate</td>\n",
       "      <td>B+</td>\n",
       "      <td>Successful</td>\n",
       "      <td>3.33</td>\n",
       "      <td>Freshman</td>\n",
       "      <td>9</td>\n",
       "      <td>...</td>\n",
       "      <td>0.000000</td>\n",
       "      <td>0.000000</td>\n",
       "      <td>0.00000</td>\n",
       "      <td>0.000000</td>\n",
       "      <td>0.000000</td>\n",
       "      <td>0.095238</td>\n",
       "      <td>3.285238</td>\n",
       "      <td>3.238095</td>\n",
       "      <td>0.526513</td>\n",
       "      <td>1.155195</td>\n",
       "    </tr>\n",
       "  </tbody>\n",
       "</table>\n",
       "<p>5 rows × 38 columns</p>\n",
       "</div>"
      ],
      "text/plain": [
       "  Course Code                                  Course Title  Student Number  \\\n",
       "0     MGT 511                     Küresel Yönetim Düşüncesi            1182   \n",
       "1     UNI 123  Textual Analysis and Effective Communication             134   \n",
       "2     UNI 115          Turkish for International Students I             217   \n",
       "3     MGT 511                     Küresel Yönetim Düşüncesi            1227   \n",
       "4     MGT 541                        Uluslararası Pazarlama            1225   \n",
       "\n",
       "  Department Code   Course Level Letter Grade      Status   GPA  Standing  \\\n",
       "0          MBA/NT       Graduate           A-  Successful  3.54  Freshman   \n",
       "1              EE  Undergraduate           C-  Successful  3.67  Freshman   \n",
       "2             CTV  Undergraduate           A-  Successful  3.70  Freshman   \n",
       "3          MBA/NT       Graduate            B  Successful  3.00  Freshman   \n",
       "4          MBA/NT       Graduate           B+  Successful  3.33  Freshman   \n",
       "\n",
       "   Completed Credits  ...    C rate   C- rate  D+ rate    D rate   D- rate  \\\n",
       "0                 15  ...  0.000000  0.000000  0.00000  0.000000  0.000000   \n",
       "1                 18  ...  0.045161  0.051613  0.03871  0.058065  0.032258   \n",
       "2                  3  ...  0.000000  0.000000  0.00000  0.000000  0.000000   \n",
       "3                 15  ...  0.000000  0.000000  0.00000  0.000000  0.000000   \n",
       "4                  9  ...  0.000000  0.000000  0.00000  0.000000  0.000000   \n",
       "\n",
       "     F rate  Mean GPA - Students taken  Mean Grade - Students taken  \\\n",
       "0  0.018868                   3.363396                     3.479245   \n",
       "1  0.187097                   2.410000                     2.178710   \n",
       "2  0.048780                   2.892927                     3.360976   \n",
       "3  0.018868                   3.363396                     3.479245   \n",
       "4  0.095238                   3.285238                     3.238095   \n",
       "\n",
       "   STDEV GPA - Students taken  STDEV Grade - Students taken  \n",
       "0                    0.583240                      0.712352  \n",
       "1                    1.082217                      1.378734  \n",
       "2                    1.048528                      0.917845  \n",
       "3                    0.583240                      0.712352  \n",
       "4                    0.526513                      1.155195  \n",
       "\n",
       "[5 rows x 38 columns]"
      ]
     },
     "execution_count": 2,
     "metadata": {},
     "output_type": "execute_result"
    }
   ],
   "source": [
    "df = pd.read_csv('../datasets/processed_course_clustering_dataset.csv')\n",
    "df.head()"
   ]
  },
  {
   "cell_type": "code",
   "execution_count": 3,
   "metadata": {},
   "outputs": [],
   "source": [
    "df.drop([df.columns[0], df.columns[1], df.columns[2]], inplace=True, axis=1)   # dropping course details"
   ]
  },
  {
   "cell_type": "code",
   "execution_count": 4,
   "metadata": {},
   "outputs": [],
   "source": [
    "# applying one-hot encoding on categorical features\n",
    "df = pd.concat([df, pd.get_dummies(df['Course Year'], prefix='Course Year'), pd.get_dummies(df['Subject'], prefix='Subject'), pd.get_dummies(df['Department Code'], prefix='Department Code'), pd.get_dummies(df['Course Level'], prefix='Course Level'), pd.get_dummies(df['Standing'], prefix='Standing'), pd.get_dummies(df['Status'], prefix='Status')], axis=1)\n",
    "df.drop(['Course Year', 'Subject', 'Department Code', 'Course Level', 'Status', 'Standing'], axis=1, inplace=True)"
   ]
  },
  {
   "cell_type": "code",
   "execution_count": 5,
   "metadata": {},
   "outputs": [
    {
     "data": {
      "text/plain": [
       "LabelEncoder()"
      ]
     },
     "execution_count": 5,
     "metadata": {},
     "output_type": "execute_result"
    }
   ],
   "source": [
    "le = LabelEncoder()\n",
    "le.fit(['A+', 'A', 'A-', 'B+', 'B', 'B-', 'C+', 'C', 'C-', 'D+', 'D', 'D-', 'F'])"
   ]
  },
  {
   "cell_type": "code",
   "execution_count": 7,
   "metadata": {},
   "outputs": [],
   "source": [
    "df.drop('Semester', inplace=True, axis=1)"
   ]
  },
  {
   "cell_type": "code",
   "execution_count": 9,
   "metadata": {},
   "outputs": [],
   "source": [
    "y = le.transform(df.pop('Letter Grade'))"
   ]
  },
  {
   "cell_type": "code",
   "execution_count": 12,
   "metadata": {},
   "outputs": [],
   "source": [
    "columns = df.columns\n",
    "sc = StandardScaler()\n",
    "X = pd.DataFrame(sc.fit_transform(df), columns=columns)"
   ]
  },
  {
   "cell_type": "markdown",
   "metadata": {},
   "source": [
    "### GridSearchCV"
   ]
  },
  {
   "cell_type": "code",
   "execution_count": 46,
   "metadata": {},
   "outputs": [],
   "source": [
    "tuned_params = {}"
   ]
  },
  {
   "cell_type": "code",
   "execution_count": null,
   "metadata": {},
   "outputs": [],
   "source": [
    "parameters = {'loss': ['ls', 'lad', 'huber', 'quantile'], \n",
    "              'n_estimators': [100, 200, 400, 800, 1600],\n",
    "              'learning_rate': [0.1, 0.01, 0.001, 0.0001],\n",
    "              'max_depth': [3, 9, 27, 81, 243]}\n",
    "\n",
    "gridsearch = GridSearchCV(GradientBoostingRegressor(), parameters)\n",
    "gridsearch.fit(X, y)\n",
    "\n",
    "tuned_params['GradientBoostingRegressor'] = gridsearch.best_params_"
   ]
  },
  {
   "cell_type": "code",
   "execution_count": null,
   "metadata": {},
   "outputs": [],
   "source": [
    "parameters = {'n_estimators': [100, 200, 400, 800, 1600]}\n",
    "\n",
    "gridsearch = GridSearchCV(RandomForestRegressor(), parameters)\n",
    "gridsearch.fit(X, y)\n",
    "\n",
    "tuned_params['RandomForestRegressor'] = gridsearch.best_params_"
   ]
  },
  {
   "cell_type": "code",
   "execution_count": null,
   "metadata": {},
   "outputs": [],
   "source": [
    "parameters = {'n_estimators': [50, 100, 200, 400, 800, 1600],\n",
    "              'learning_rate': [1, 0.1, 0.01, 0.001, 0.0001]}\n",
    "\n",
    "gridsearch = GridSearchCV(AdaBoostRegressor(), parameters)\n",
    "gridsearch.fit(X, y)\n",
    "\n",
    "tuned_params['AdaBoostRegressor'] = gridsearch.best_params_"
   ]
  },
  {
   "cell_type": "code",
   "execution_count": null,
   "metadata": {},
   "outputs": [],
   "source": [
    "parameters = {'n_estimators': [10, 20, 40, 80, 160, 320]}\n",
    "\n",
    "gridsearch = GridSearchCV(BaggingRegressor(), parameters)\n",
    "gridsearch.fit(X, y)\n",
    "\n",
    "tuned_params['BaggingRegressor'] = gridsearch.best_params_"
   ]
  },
  {
   "cell_type": "code",
   "execution_count": null,
   "metadata": {},
   "outputs": [],
   "source": [
    "parameters = {'alpha': [1.0, 2.0, 4.0, 8.0]}\n",
    "\n",
    "gridsearch = GridSearchCV(Ridge(), parameters)\n",
    "gridsearch.fit(X, y)\n",
    "\n",
    "tuned_params['Ridge'] = gridsearch.best_params_"
   ]
  },
  {
   "cell_type": "code",
   "execution_count": null,
   "metadata": {},
   "outputs": [],
   "source": [
    "parameters = {'alpha': [1.0, 2.0, 4.0, 8.0]}\n",
    "\n",
    "gridsearch = GridSearchCV(Lasso(), parameters)\n",
    "gridsearch.fit(X, y)\n",
    "\n",
    "tuned_params['Lasso'] = gridsearch.best_params_"
   ]
  },
  {
   "cell_type": "code",
   "execution_count": null,
   "metadata": {},
   "outputs": [],
   "source": [
    "parameters = {'alpha_1': [1e-7, 1e-6, 1e-5, 1e-4, 1e-3],\n",
    "              'alpha_2': [1e-7, 1e-6, 1e-5, 1e-4, 1e-3],\n",
    "              'lambda_1': [1e-7, 1e-6, 1e-5, 1e-4, 1e-3],\n",
    "              'lambda_2': [1e-7, 1e-6, 1e-5, 1e-4, 1e-3]}\n",
    "\n",
    "gridsearch = GridSearchCV(BayesianRidge(), parameters)\n",
    "gridsearch.fit(X, y)\n",
    "\n",
    "tuned_params['BayesianRidge'] = gridsearch.best_params_"
   ]
  },
  {
   "cell_type": "code",
   "execution_count": null,
   "metadata": {},
   "outputs": [],
   "source": [
    "parameters = {'kernel': ['rbf', 'linear'],\n",
    "              'C': [1.0, 2.0, 4.0, 8.0],\n",
    "              'epsilom': [1e-1, 1e-2, 1e-3, 1e-4]}\n",
    "\n",
    "gridsearch = GridSearchCV(SVR(), parameters)\n",
    "gridsearch.fit(X, y)\n",
    "\n",
    "tuned_params['SVR'] = gridsearch.best_params_"
   ]
  },
  {
   "cell_type": "code",
   "execution_count": null,
   "metadata": {},
   "outputs": [],
   "source": [
    "with open('course_based_tuned_hyperparams.json', 'w') as fw:\n",
    "    json.dump(tuned_params, fw)"
   ]
  }
 ],
 "metadata": {
  "kernelspec": {
   "display_name": "Python 3",
   "language": "python",
   "name": "python3"
  },
  "language_info": {
   "codemirror_mode": {
    "name": "ipython",
    "version": 3
   },
   "file_extension": ".py",
   "mimetype": "text/x-python",
   "name": "python",
   "nbconvert_exporter": "python",
   "pygments_lexer": "ipython3",
   "version": "3.6.9"
  }
 },
 "nbformat": 4,
 "nbformat_minor": 4
}
