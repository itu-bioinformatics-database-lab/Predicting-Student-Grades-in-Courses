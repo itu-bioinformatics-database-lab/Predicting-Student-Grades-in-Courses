{
 "cells": [
  {
   "cell_type": "code",
   "execution_count": 5,
   "metadata": {},
   "outputs": [],
   "source": [
    "import pandas as pd\n",
    "from sklearn.preprocessing import StandardScaler, LabelEncoder\n",
    "from sklearn.model_selection import GridSearchCV\n",
    "from sklearn.ensemble import BaggingRegressor, AdaBoostRegressor, RandomForestRegressor, GradientBoostingRegressor\n",
    "from sklearn.linear_model import BayesianRidge, Lasso, Ridge\n",
    "from sklearn.svm import SVR"
   ]
  },
  {
   "cell_type": "markdown",
   "metadata": {},
   "source": [
    "### Preprocessing:"
   ]
  },
  {
   "cell_type": "code",
   "execution_count": 38,
   "metadata": {},
   "outputs": [
    {
     "data": {
      "text/html": [
       "<div>\n",
       "<style scoped>\n",
       "    .dataframe tbody tr th:only-of-type {\n",
       "        vertical-align: middle;\n",
       "    }\n",
       "\n",
       "    .dataframe tbody tr th {\n",
       "        vertical-align: top;\n",
       "    }\n",
       "\n",
       "    .dataframe thead th {\n",
       "        text-align: right;\n",
       "    }\n",
       "</style>\n",
       "<table border=\"1\" class=\"dataframe\">\n",
       "  <thead>\n",
       "    <tr style=\"text-align: right;\">\n",
       "      <th></th>\n",
       "      <th>Course Code</th>\n",
       "      <th>Course Title</th>\n",
       "      <th>Student Number</th>\n",
       "      <th>Department Code</th>\n",
       "      <th>Course Level</th>\n",
       "      <th>Letter Grade</th>\n",
       "      <th>Status</th>\n",
       "      <th>GPA</th>\n",
       "      <th>Standing</th>\n",
       "      <th>Completed Credits</th>\n",
       "      <th>Completed ECTS</th>\n",
       "      <th>GPA Student - Subject</th>\n",
       "      <th>Avg. Grade - Taken</th>\n",
       "      <th>Avg. Grade - Students_Subject</th>\n",
       "      <th>Semester</th>\n",
       "      <th>Theoritical</th>\n",
       "      <th>Practical</th>\n",
       "      <th>Course Credit</th>\n",
       "      <th>ECTS</th>\n",
       "      <th>Course Year</th>\n",
       "    </tr>\n",
       "  </thead>\n",
       "  <tbody>\n",
       "    <tr>\n",
       "      <th>0</th>\n",
       "      <td>MGT 511</td>\n",
       "      <td>Küresel Yönetim Düşüncesi</td>\n",
       "      <td>1182</td>\n",
       "      <td>MBA/NT</td>\n",
       "      <td>Graduate</td>\n",
       "      <td>A-</td>\n",
       "      <td>Successful</td>\n",
       "      <td>3.54</td>\n",
       "      <td>Freshman</td>\n",
       "      <td>15</td>\n",
       "      <td>25</td>\n",
       "      <td>3.540000</td>\n",
       "      <td>3.576471</td>\n",
       "      <td>3.324211</td>\n",
       "      <td>2011 - Fall</td>\n",
       "      <td>3</td>\n",
       "      <td>0</td>\n",
       "      <td>3</td>\n",
       "      <td>5</td>\n",
       "      <td>5</td>\n",
       "    </tr>\n",
       "    <tr>\n",
       "      <th>1</th>\n",
       "      <td>UNI 123</td>\n",
       "      <td>Textual Analysis and Effective Communication</td>\n",
       "      <td>134</td>\n",
       "      <td>EE</td>\n",
       "      <td>Undergraduate</td>\n",
       "      <td>C-</td>\n",
       "      <td>Successful</td>\n",
       "      <td>3.67</td>\n",
       "      <td>Freshman</td>\n",
       "      <td>18</td>\n",
       "      <td>30</td>\n",
       "      <td>3.666667</td>\n",
       "      <td>2.120833</td>\n",
       "      <td>2.703226</td>\n",
       "      <td>2011 - Fall</td>\n",
       "      <td>3</td>\n",
       "      <td>0</td>\n",
       "      <td>3</td>\n",
       "      <td>5</td>\n",
       "      <td>1</td>\n",
       "    </tr>\n",
       "    <tr>\n",
       "      <th>2</th>\n",
       "      <td>UNI 115</td>\n",
       "      <td>Turkish for International Students I</td>\n",
       "      <td>217</td>\n",
       "      <td>CTV</td>\n",
       "      <td>Undergraduate</td>\n",
       "      <td>A-</td>\n",
       "      <td>Successful</td>\n",
       "      <td>3.70</td>\n",
       "      <td>Freshman</td>\n",
       "      <td>3</td>\n",
       "      <td>5</td>\n",
       "      <td>3.700000</td>\n",
       "      <td>3.900000</td>\n",
       "      <td>2.703226</td>\n",
       "      <td>2011 - Fall</td>\n",
       "      <td>3</td>\n",
       "      <td>0</td>\n",
       "      <td>3</td>\n",
       "      <td>5</td>\n",
       "      <td>1</td>\n",
       "    </tr>\n",
       "    <tr>\n",
       "      <th>3</th>\n",
       "      <td>MGT 511</td>\n",
       "      <td>Küresel Yönetim Düşüncesi</td>\n",
       "      <td>1227</td>\n",
       "      <td>MBA/NT</td>\n",
       "      <td>Graduate</td>\n",
       "      <td>B</td>\n",
       "      <td>Successful</td>\n",
       "      <td>3.00</td>\n",
       "      <td>Freshman</td>\n",
       "      <td>15</td>\n",
       "      <td>25</td>\n",
       "      <td>3.000000</td>\n",
       "      <td>3.576471</td>\n",
       "      <td>3.324211</td>\n",
       "      <td>2011 - Fall</td>\n",
       "      <td>3</td>\n",
       "      <td>0</td>\n",
       "      <td>3</td>\n",
       "      <td>5</td>\n",
       "      <td>5</td>\n",
       "    </tr>\n",
       "    <tr>\n",
       "      <th>4</th>\n",
       "      <td>MGT 541</td>\n",
       "      <td>Uluslararası Pazarlama</td>\n",
       "      <td>1225</td>\n",
       "      <td>MBA/NT</td>\n",
       "      <td>Graduate</td>\n",
       "      <td>B+</td>\n",
       "      <td>Successful</td>\n",
       "      <td>3.33</td>\n",
       "      <td>Freshman</td>\n",
       "      <td>9</td>\n",
       "      <td>15</td>\n",
       "      <td>3.333333</td>\n",
       "      <td>3.238095</td>\n",
       "      <td>3.324211</td>\n",
       "      <td>2011 - Fall</td>\n",
       "      <td>3</td>\n",
       "      <td>0</td>\n",
       "      <td>3</td>\n",
       "      <td>5</td>\n",
       "      <td>5</td>\n",
       "    </tr>\n",
       "  </tbody>\n",
       "</table>\n",
       "</div>"
      ],
      "text/plain": [
       "  Course Code                                  Course Title  Student Number  \\\n",
       "0     MGT 511                     Küresel Yönetim Düşüncesi            1182   \n",
       "1     UNI 123  Textual Analysis and Effective Communication             134   \n",
       "2     UNI 115          Turkish for International Students I             217   \n",
       "3     MGT 511                     Küresel Yönetim Düşüncesi            1227   \n",
       "4     MGT 541                        Uluslararası Pazarlama            1225   \n",
       "\n",
       "  Department Code   Course Level Letter Grade      Status   GPA  Standing  \\\n",
       "0          MBA/NT       Graduate           A-  Successful  3.54  Freshman   \n",
       "1              EE  Undergraduate           C-  Successful  3.67  Freshman   \n",
       "2             CTV  Undergraduate           A-  Successful  3.70  Freshman   \n",
       "3          MBA/NT       Graduate            B  Successful  3.00  Freshman   \n",
       "4          MBA/NT       Graduate           B+  Successful  3.33  Freshman   \n",
       "\n",
       "   Completed Credits  Completed ECTS  GPA Student - Subject  \\\n",
       "0                 15              25               3.540000   \n",
       "1                 18              30               3.666667   \n",
       "2                  3               5               3.700000   \n",
       "3                 15              25               3.000000   \n",
       "4                  9              15               3.333333   \n",
       "\n",
       "   Avg. Grade - Taken  Avg. Grade - Students_Subject     Semester  \\\n",
       "0            3.576471                       3.324211  2011 - Fall   \n",
       "1            2.120833                       2.703226  2011 - Fall   \n",
       "2            3.900000                       2.703226  2011 - Fall   \n",
       "3            3.576471                       3.324211  2011 - Fall   \n",
       "4            3.238095                       3.324211  2011 - Fall   \n",
       "\n",
       "   Theoritical  Practical  Course Credit  ECTS  Course Year  \n",
       "0            3          0              3     5            5  \n",
       "1            3          0              3     5            1  \n",
       "2            3          0              3     5            1  \n",
       "3            3          0              3     5            5  \n",
       "4            3          0              3     5            5  "
      ]
     },
     "execution_count": 38,
     "metadata": {},
     "output_type": "execute_result"
    }
   ],
   "source": [
    "df = pd.read_csv('../datasets/processed_dataset.csv')\n",
    "df.head()"
   ]
  },
  {
   "cell_type": "code",
   "execution_count": 39,
   "metadata": {},
   "outputs": [],
   "source": [
    "df.drop([df.columns[0], df.columns[1], df.columns[2]], inplace=True, axis=1)   # dropping course details"
   ]
  },
  {
   "cell_type": "code",
   "execution_count": 40,
   "metadata": {},
   "outputs": [],
   "source": [
    "# applying one-hot encoding on categorical features\n",
    "df = pd.concat([df, pd.get_dummies(df['Course Year'], prefix='Course Year'), pd.get_dummies(df['Department Code'], prefix='Department Code'), pd.get_dummies(df['Course Level'], prefix='Course Level'), pd.get_dummies(df['Standing'], prefix='Standing'), pd.get_dummies(df['Status'], prefix='Status')], axis=1)\n",
    "df.drop(['Course Year', 'Department Code', 'Course Level', 'Status', 'Standing'], axis=1, inplace=True)"
   ]
  },
  {
   "cell_type": "code",
   "execution_count": 41,
   "metadata": {},
   "outputs": [
    {
     "data": {
      "text/plain": [
       "LabelEncoder()"
      ]
     },
     "execution_count": 41,
     "metadata": {},
     "output_type": "execute_result"
    }
   ],
   "source": [
    "le = LabelEncoder()\n",
    "le.fit(['A+', 'A', 'A-', 'B+', 'B', 'B-', 'C+', 'C', 'C-', 'D+', 'D', 'D-', 'F'])"
   ]
  },
  {
   "cell_type": "code",
   "execution_count": 42,
   "metadata": {},
   "outputs": [],
   "source": [
    "df.drop('Semester', inplace=True, axis=1)"
   ]
  },
  {
   "cell_type": "code",
   "execution_count": 43,
   "metadata": {},
   "outputs": [],
   "source": [
    "y = le.transform(df.pop('Letter Grade'))"
   ]
  },
  {
   "cell_type": "code",
   "execution_count": 44,
   "metadata": {},
   "outputs": [],
   "source": [
    "columns = df.columns\n",
    "sc = StandardScaler()\n",
    "X = pd.DataFrame(sc.fit_transform(df), columns=columns)"
   ]
  },
  {
   "cell_type": "markdown",
   "metadata": {},
   "source": [
    "### GridSearchCV"
   ]
  },
  {
   "cell_type": "code",
   "execution_count": 46,
   "metadata": {},
   "outputs": [],
   "source": [
    "tuned_params = {}"
   ]
  },
  {
   "cell_type": "code",
   "execution_count": null,
   "metadata": {},
   "outputs": [],
   "source": [
    "parameters = {'loss': ['ls', 'lad', 'huber', 'quantile'], \n",
    "              'n_estimators': [100, 200, 400, 800, 1600],\n",
    "              'learning_rate': [0.1, 0.01, 0.001, 0.0001],\n",
    "              'max_depth': [3, 9, 27, 81, 243]}\n",
    "\n",
    "gridsearch = GridSearchCV(GradientBoostingRegressor(), parameters)\n",
    "gridsearch.fit(X, y)\n",
    "\n",
    "tuned_params['GradientBoostingRegressor'] = gridsearch.best_params_"
   ]
  },
  {
   "cell_type": "code",
   "execution_count": null,
   "metadata": {},
   "outputs": [],
   "source": [
    "parameters = {'n_estimators': [100, 200, 400, 800, 1600]}\n",
    "\n",
    "gridsearch = GridSearchCV(RandomForestRegressor(), parameters)\n",
    "gridsearch.fit(X, y)\n",
    "\n",
    "tuned_params['RandomForestRegressor'] = gridsearch.best_params_"
   ]
  },
  {
   "cell_type": "code",
   "execution_count": null,
   "metadata": {},
   "outputs": [],
   "source": [
    "parameters = {'n_estimators': [50, 100, 200, 400, 800, 1600],\n",
    "              'learning_rate': [1, 0.1, 0.01, 0.001, 0.0001]}\n",
    "\n",
    "gridsearch = GridSearchCV(AdaBoostRegressor(), parameters)\n",
    "gridsearch.fit(X, y)\n",
    "\n",
    "tuned_params['AdaBoostRegressor'] = gridsearch.best_params_"
   ]
  },
  {
   "cell_type": "code",
   "execution_count": null,
   "metadata": {},
   "outputs": [],
   "source": [
    "parameters = {'n_estimators': [10, 20, 40, 80, 160, 320]}\n",
    "\n",
    "gridsearch = GridSearchCV(BaggingRegressor(), parameters)\n",
    "gridsearch.fit(X, y)\n",
    "\n",
    "tuned_params['BaggingRegressor'] = gridsearch.best_params_"
   ]
  },
  {
   "cell_type": "code",
   "execution_count": null,
   "metadata": {},
   "outputs": [],
   "source": [
    "parameters = {'alpha': [1.0, 2.0, 4.0, 8.0]}\n",
    "\n",
    "gridsearch = GridSearchCV(Ridge(), parameters)\n",
    "gridsearch.fit(X, y)\n",
    "\n",
    "tuned_params['Ridge'] = gridsearch.best_params_"
   ]
  },
  {
   "cell_type": "code",
   "execution_count": null,
   "metadata": {},
   "outputs": [],
   "source": [
    "parameters = {'alpha': [1.0, 2.0, 4.0, 8.0]}\n",
    "\n",
    "gridsearch = GridSearchCV(Lasso(), parameters)\n",
    "gridsearch.fit(X, y)\n",
    "\n",
    "tuned_params['Lasso'] = gridsearch.best_params_"
   ]
  },
  {
   "cell_type": "code",
   "execution_count": null,
   "metadata": {},
   "outputs": [],
   "source": [
    "parameters = {'alpha_1': [1e-7, 1e-6, 1e-5, 1e-4, 1e-3],\n",
    "              'alpha_2': [1e-7, 1e-6, 1e-5, 1e-4, 1e-3],\n",
    "              'lambda_1': [1e-7, 1e-6, 1e-5, 1e-4, 1e-3],\n",
    "              'lambda_2': [1e-7, 1e-6, 1e-5, 1e-4, 1e-3]}\n",
    "\n",
    "gridsearch = GridSearchCV(BayesianRidge(), parameters)\n",
    "gridsearch.fit(X, y)\n",
    "\n",
    "tuned_params['BayesianRidge'] = gridsearch.best_params_"
   ]
  },
  {
   "cell_type": "code",
   "execution_count": null,
   "metadata": {},
   "outputs": [],
   "source": [
    "parameters = {'kernel': ['rbf', 'linear'],\n",
    "              'C': [1.0, 2.0, 4.0, 8.0],\n",
    "              'epsilom': [1e-1, 1e-2, 1e-3, 1e-4]}\n",
    "\n",
    "gridsearch = GridSearchCV(SVR(), parameters)\n",
    "gridsearch.fit(X, y)\n",
    "\n",
    "tuned_params['SVR'] = gridsearch.best_params_"
   ]
  },
  {
   "cell_type": "code",
   "execution_count": null,
   "metadata": {},
   "outputs": [],
   "source": [
    "with open('student_based_tuned_hyperparams.json', 'w') as fw:\n",
    "    json.dump(tuned_params, fw)"
   ]
  }
 ],
 "metadata": {
  "kernelspec": {
   "display_name": "Python 3",
   "language": "python",
   "name": "python3"
  },
  "language_info": {
   "codemirror_mode": {
    "name": "ipython",
    "version": 3
   },
   "file_extension": ".py",
   "mimetype": "text/x-python",
   "name": "python",
   "nbconvert_exporter": "python",
   "pygments_lexer": "ipython3",
   "version": "3.6.9"
  }
 },
 "nbformat": 4,
 "nbformat_minor": 4
}
