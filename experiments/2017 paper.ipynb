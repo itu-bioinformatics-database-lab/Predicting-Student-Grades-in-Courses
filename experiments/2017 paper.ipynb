{
 "cells": [
  {
   "cell_type": "code",
   "execution_count": 1,
   "metadata": {},
   "outputs": [],
   "source": [
    "import pandas as pd\n",
    "import numpy as np\n",
    "import recommendations\n",
    "import matplotlib.pyplot as plt\n",
    "from sklearn.metrics import mean_absolute_error, mean_squared_error"
   ]
  },
  {
   "cell_type": "code",
   "execution_count": 2,
   "metadata": {},
   "outputs": [],
   "source": [
    "df = pd.read_csv('../datasets/processed_dataset.csv')\n",
    "df = df[['Course Code', 'Student Number', 'Letter Grade', 'Semester', 'Course Credit']]"
   ]
  },
  {
   "cell_type": "code",
   "execution_count": 3,
   "metadata": {},
   "outputs": [],
   "source": [
    "grade_mapper = {'A+': 4.1, 'A': 4.0, 'A-': 3.7, 'B+': 3.3, 'B': 3.0, 'B-': 2.7, 'C+': 2.3, \n",
    "                'C': 2.0, 'C-': 1.7, 'D+': 1.3, 'D': 1.0, 'D-': 0.5, 'F': 0.0}"
   ]
  },
  {
   "cell_type": "code",
   "execution_count": 4,
   "metadata": {},
   "outputs": [],
   "source": [
    "semester_data = {}\n",
    "course_data = {}\n",
    "for row_idx in df.index:\n",
    "    course_code = df.iloc[row_idx, 0]\n",
    "    student_number = df.iloc[row_idx, 1]\n",
    "    letter_grade = df.iloc[row_idx, 2]\n",
    "    semester = df.iloc[row_idx, 3]\n",
    "    course_credit = df.iloc[row_idx, 4]\n",
    "    \n",
    "    semester_data.setdefault(semester, {})\n",
    "    semester_data[semester].setdefault(student_number, {})\n",
    "    semester_data[semester][student_number][course_code] = grade_mapper[letter_grade]\n",
    "    course_data[course_code] = course_credit"
   ]
  },
  {
   "cell_type": "code",
   "execution_count": 5,
   "metadata": {},
   "outputs": [],
   "source": [
    "def get_gpa(semester_data, student):\n",
    "    total_weight = 0\n",
    "    total_credit = 0\n",
    "    \n",
    "    for course in semester_data[student]:\n",
    "        total_weight += semester_data[student][course] * course_data[course]\n",
    "        total_credit += course_data[course]\n",
    "    \n",
    "    return total_weight / total_credit"
   ]
  },
  {
   "cell_type": "code",
   "execution_count": 6,
   "metadata": {},
   "outputs": [],
   "source": [
    "def get_grade_stats(semester_data, student):\n",
    "    grade_list = []\n",
    "    \n",
    "    for course in semester_data[student]:\n",
    "        numerical_grade = semester_data[student][course]\n",
    "        grade_list.append(numerical_grade)\n",
    "    \n",
    "    mean = np.mean(grade_list)\n",
    "    std_dev = np.std(grade_list)\n",
    "    \n",
    "    return mean, std_dev"
   ]
  },
  {
   "cell_type": "code",
   "execution_count": 7,
   "metadata": {},
   "outputs": [],
   "source": [
    "def get_errors(train_semester, test_semester, sim):\n",
    "    y_true = []\n",
    "    y_pred = []\n",
    "    gpa = {}\n",
    "    \n",
    "    for student in train_semester:\n",
    "        gpa[student] = get_gpa(train_semester, student)\n",
    "        \n",
    "    for student in train_semester:\n",
    "        recommended_courses = {}\n",
    "        recs = recommendations.getRecommendations(train_semester, student, sim, dgpa=True, gpa=gpa, delta=0.7)\n",
    "            \n",
    "        for rec_grade, rec_course in recs:\n",
    "            recommended_courses.setdefault(rec_course, rec_grade)\n",
    "            \n",
    "        gpa.setdefault(student, get_gpa(train_semester, student))\n",
    "        \n",
    "        if student not in test_semester:\n",
    "            continue\n",
    "        \n",
    "        mean, std_dev = get_grade_stats(train_semester, student)\n",
    "            \n",
    "        for course_code in test_semester[student]:\n",
    "            if course_code in recommended_courses:\n",
    "                rec_grade = recommended_courses[course_code]\n",
    "                if rec_grade < mean - (2 * std_dev) or rec_grade > mean + (2 * std_dev):\n",
    "                    continue\n",
    "                y_pred.append(rec_grade)\n",
    "            else:\n",
    "                rec_grade = gpa[student]\n",
    "                if rec_grade < mean - (2 * std_dev) or rec_grade > mean + (2 * std_dev):\n",
    "                    continue\n",
    "                y_pred.append(rec_grade)\n",
    "            y_true.append(test_semester[student][course_code])\n",
    "        \n",
    "    rmse = np.sqrt(mean_squared_error(y_true, y_pred))\n",
    "    mae = mean_absolute_error(y_true, y_pred)\n",
    "    \n",
    "    return rmse, mae"
   ]
  },
  {
   "cell_type": "code",
   "execution_count": 8,
   "metadata": {},
   "outputs": [],
   "source": [
    "def predict(semester_data, sim):\n",
    "    errors = {'rmse': [], 'mae': []}\n",
    "    train_semester = {}\n",
    "    for i in range(1, len(sorted(semester_data))):\n",
    "        new_semester = semester_data[sorted(semester_data)[i-1]]\n",
    "        for student in new_semester:\n",
    "            if student in train_semester:\n",
    "                train_semester[student].update(new_semester[student])\n",
    "            else:\n",
    "                train_semester[student] = new_semester[student]\n",
    "        test_semester = semester_data[sorted(semester_data)[i]]\n",
    "\n",
    "        # making predictions for every student in training semester\n",
    "        rmse, mae = get_errors(train_semester, test_semester, sim)\n",
    "\n",
    "        errors['rmse'].append(rmse)\n",
    "        errors['mae'].append(mae)\n",
    "    \n",
    "    return errors"
   ]
  },
  {
   "cell_type": "code",
   "execution_count": 9,
   "metadata": {},
   "outputs": [],
   "source": [
    "def plot_errors(errors, sim):\n",
    "    x = np.arange(7)\n",
    "    fig, ax = plt.subplots(figsize=(11, 5.5))\n",
    "    rects1 = ax.bar(x - 0.35/2, errors['rmse'], 0.35, label='RMSE')\n",
    "    rects2 = ax.bar(x + 0.35/2, errors['mae'], 0.35, label='MAE')\n",
    "    for i, v in enumerate(errors['rmse']):\n",
    "        ax.text(i-0.36, v + 0.01, str(round(v, 2)), fontfamily='serif', fontsize=13, fontweight='bold')\n",
    "    for i, v in enumerate(errors['mae']):\n",
    "        ax.text(i-0.01, v + 0.01, str(round(v, 2)), fontfamily='serif', fontsize=13, fontweight='bold')\n",
    "    ax.set_ylabel('Error', fontsize=22, fontfamily='serif')\n",
    "    ax.set_title('Error Metrics with N training semesters ({})'.format(sim), fontsize=22, fontfamily='serif')\n",
    "    ax.set_xticks(x)\n",
    "    ax.set_xticklabels(['N={}'.format(i+1) for i in range(7)], fontsize=22, fontfamily='serif')\n",
    "    ax.set_yticklabels([round(i,1) for i in ax.get_yticks()], fontsize=22, fontfamily='serif')\n",
    "    ax.tick_params(labelsize=22)\n",
    "    ax.grid(True)\n",
    "    ax.legend(prop={'size': 18, 'family': 'serif'}, loc='center', bbox_to_anchor=(0.5, -0.15), ncol=2)"
   ]
  },
  {
   "cell_type": "code",
   "execution_count": 10,
   "metadata": {},
   "outputs": [],
   "source": [
    "results = {}"
   ]
  },
  {
   "cell_type": "code",
   "execution_count": 11,
   "metadata": {},
   "outputs": [
    {
     "data": {
      "image/png": "[encoded data removed]",
      "text/plain": [
       "<Figure size 792x396 with 1 Axes>"
      ]
     },
     "metadata": {
      "needs_background": "light"
     },
     "output_type": "display_data"
    }
   ],
   "source": [
    "errors = predict(semester_data, recommendations.sim_distance)\n",
    "results['Euclidean Distance'] = errors\n",
    "plot_errors(errors, 'Euclidean Distance')"
   ]
  },
  {
   "cell_type": "code",
   "execution_count": 13,
   "metadata": {},
   "outputs": [],
   "source": [
    "import json\n",
    "with open('2017 paper.json', 'w') as fw:\n",
    "    json.dump(results, fw)"
   ]
  }
 ],
 "metadata": {
  "kernelspec": {
   "display_name": "Python 3",
   "language": "python",
   "name": "python3"
  },
  "language_info": {
   "codemirror_mode": {
    "name": "ipython",
    "version": 3
   },
   "file_extension": ".py",
   "mimetype": "text/x-python",
   "name": "python",
   "nbconvert_exporter": "python",
   "pygments_lexer": "ipython3",
   "version": "3.6.9"
  }
 },
 "nbformat": 4,
 "nbformat_minor": 4
}
