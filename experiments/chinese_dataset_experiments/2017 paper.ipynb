{
 "cells": [
  {
   "cell_type": "code",
   "execution_count": 2,
   "metadata": {},
   "outputs": [],
   "source": [
    "import pandas as pd\n",
    "import numpy as np\n",
    "import recommendations\n",
    "import matplotlib.pyplot as plt\n",
    "from sklearn.metrics import mean_absolute_error, mean_squared_error"
   ]
  },
  {
   "cell_type": "code",
   "execution_count": 3,
   "metadata": {},
   "outputs": [
    {
     "data": {
      "text/html": [
       "<div>\n",
       "<style scoped>\n",
       "    .dataframe tbody tr th:only-of-type {\n",
       "        vertical-align: middle;\n",
       "    }\n",
       "\n",
       "    .dataframe tbody tr th {\n",
       "        vertical-align: top;\n",
       "    }\n",
       "\n",
       "    .dataframe thead th {\n",
       "        text-align: right;\n",
       "    }\n",
       "</style>\n",
       "<table border=\"1\" class=\"dataframe\">\n",
       "  <thead>\n",
       "    <tr style=\"text-align: right;\">\n",
       "      <th></th>\n",
       "      <th>Course Title</th>\n",
       "      <th>Student Number</th>\n",
       "      <th>Grades</th>\n",
       "      <th>Course Semester</th>\n",
       "      <th>Course Credit</th>\n",
       "    </tr>\n",
       "  </thead>\n",
       "  <tbody>\n",
       "    <tr>\n",
       "      <th>0</th>\n",
       "      <td>Ideological and Moral Cultivation and Legal Fo...</td>\n",
       "      <td>0</td>\n",
       "      <td>4</td>\n",
       "      <td>1</td>\n",
       "      <td>2.5</td>\n",
       "    </tr>\n",
       "    <tr>\n",
       "      <th>1</th>\n",
       "      <td>Success: Career Planning</td>\n",
       "      <td>0</td>\n",
       "      <td>3</td>\n",
       "      <td>1</td>\n",
       "      <td>1.0</td>\n",
       "    </tr>\n",
       "    <tr>\n",
       "      <th>2</th>\n",
       "      <td>Introduction to Computer Science</td>\n",
       "      <td>0</td>\n",
       "      <td>1</td>\n",
       "      <td>1</td>\n",
       "      <td>2.0</td>\n",
       "    </tr>\n",
       "    <tr>\n",
       "      <th>3</th>\n",
       "      <td>Advanced Mathematics A(1)</td>\n",
       "      <td>0</td>\n",
       "      <td>4</td>\n",
       "      <td>1</td>\n",
       "      <td>5.5</td>\n",
       "    </tr>\n",
       "    <tr>\n",
       "      <th>4</th>\n",
       "      <td>College English A(1)</td>\n",
       "      <td>0</td>\n",
       "      <td>3</td>\n",
       "      <td>1</td>\n",
       "      <td>4.0</td>\n",
       "    </tr>\n",
       "    <tr>\n",
       "      <th>...</th>\n",
       "      <td>...</td>\n",
       "      <td>...</td>\n",
       "      <td>...</td>\n",
       "      <td>...</td>\n",
       "      <td>...</td>\n",
       "    </tr>\n",
       "    <tr>\n",
       "      <th>19095</th>\n",
       "      <td>J2EE Framework</td>\n",
       "      <td>381</td>\n",
       "      <td>3</td>\n",
       "      <td>6</td>\n",
       "      <td>4.5</td>\n",
       "    </tr>\n",
       "    <tr>\n",
       "      <th>19096</th>\n",
       "      <td>Intellectual Property and Software Protection</td>\n",
       "      <td>381</td>\n",
       "      <td>4</td>\n",
       "      <td>7</td>\n",
       "      <td>1.0</td>\n",
       "    </tr>\n",
       "    <tr>\n",
       "      <th>19097</th>\n",
       "      <td>Human-Computer Interaction Technology</td>\n",
       "      <td>381</td>\n",
       "      <td>5</td>\n",
       "      <td>7</td>\n",
       "      <td>2.0</td>\n",
       "    </tr>\n",
       "    <tr>\n",
       "      <th>19098</th>\n",
       "      <td>Software Development and Testing Training</td>\n",
       "      <td>381</td>\n",
       "      <td>3</td>\n",
       "      <td>7</td>\n",
       "      <td>3.0</td>\n",
       "    </tr>\n",
       "    <tr>\n",
       "      <th>19099</th>\n",
       "      <td>Python Language Programming</td>\n",
       "      <td>381</td>\n",
       "      <td>3</td>\n",
       "      <td>7</td>\n",
       "      <td>2.0</td>\n",
       "    </tr>\n",
       "  </tbody>\n",
       "</table>\n",
       "<p>19100 rows × 5 columns</p>\n",
       "</div>"
      ],
      "text/plain": [
       "                                            Course Title  Student Number  \\\n",
       "0      Ideological and Moral Cultivation and Legal Fo...               0   \n",
       "1                               Success: Career Planning               0   \n",
       "2                       Introduction to Computer Science               0   \n",
       "3                              Advanced Mathematics A(1)               0   \n",
       "4                                   College English A(1)               0   \n",
       "...                                                  ...             ...   \n",
       "19095                                     J2EE Framework             381   \n",
       "19096      Intellectual Property and Software Protection             381   \n",
       "19097              Human-Computer Interaction Technology             381   \n",
       "19098          Software Development and Testing Training             381   \n",
       "19099                        Python Language Programming             381   \n",
       "\n",
       "       Grades  Course Semester  Course Credit  \n",
       "0           4                1            2.5  \n",
       "1           3                1            1.0  \n",
       "2           1                1            2.0  \n",
       "3           4                1            5.5  \n",
       "4           3                1            4.0  \n",
       "...       ...              ...            ...  \n",
       "19095       3                6            4.5  \n",
       "19096       4                7            1.0  \n",
       "19097       5                7            2.0  \n",
       "19098       3                7            3.0  \n",
       "19099       3                7            2.0  \n",
       "\n",
       "[19100 rows x 5 columns]"
      ]
     },
     "execution_count": 3,
     "metadata": {},
     "output_type": "execute_result"
    }
   ],
   "source": [
    "df = pd.read_csv('./processed_data.csv')\n",
    "# df = df[['Course Code', 'Student Number', 'Letter Grade', 'Semester', 'Course Credit']]\n",
    "df = df[['Course Title', 'Student Number', 'Grades', 'Course Semester', 'Course Credit']]\n",
    "df"
   ]
  },
  {
   "cell_type": "code",
   "execution_count": 3,
   "metadata": {},
   "outputs": [],
   "source": [
    "grade_mapper = {'A+': 4.1, 'A': 4.0, 'A-': 3.7, 'B+': 3.3, 'B': 3.0, 'B-': 2.7, 'C+': 2.3, \n",
    "                'C': 2.0, 'C-': 1.7, 'D+': 1.3, 'D': 1.0, 'D-': 0.5, 'F': 0.0}"
   ]
  },
  {
   "cell_type": "code",
   "execution_count": 4,
   "metadata": {},
   "outputs": [],
   "source": [
    "semester_data = {}\n",
    "course_data = {}\n",
    "for row_idx in df.index:\n",
    "    course_title = df.iloc[row_idx, 0]\n",
    "    student_number = df.iloc[row_idx, 1]\n",
    "    grade = df.iloc[row_idx, 2]\n",
    "    semester = df.iloc[row_idx, 3]\n",
    "    course_credit = df.iloc[row_idx, 4]\n",
    "    \n",
    "    semester_data.setdefault(semester, {})\n",
    "    semester_data[semester].setdefault(student_number, {})\n",
    "    # semester_data[semester][student_number][course_title] = grade_mapper[letter_grade]\n",
    "    semester_data[semester][student_number][course_title] = grade\n",
    "    course_data[course_title] = course_credit"
   ]
  },
  {
   "cell_type": "code",
   "execution_count": 5,
   "metadata": {},
   "outputs": [],
   "source": [
    "def get_gpa(semester_data, student):\n",
    "    total_weight = 0\n",
    "    total_credit = 0\n",
    "    \n",
    "    for course in semester_data[student]:\n",
    "        total_weight += semester_data[student][course] * course_data[course]\n",
    "        total_credit += course_data[course]\n",
    "    \n",
    "    return total_weight / total_credit"
   ]
  },
  {
   "cell_type": "code",
   "execution_count": 6,
   "metadata": {},
   "outputs": [],
   "source": [
    "def get_grade_stats(semester_data, student):\n",
    "    grade_list = []\n",
    "    \n",
    "    for course in semester_data[student]:\n",
    "        numerical_grade = semester_data[student][course]\n",
    "        grade_list.append(numerical_grade)\n",
    "    \n",
    "    mean = np.mean(grade_list)\n",
    "    std_dev = np.std(grade_list)\n",
    "    \n",
    "    return mean, std_dev"
   ]
  },
  {
   "cell_type": "code",
   "execution_count": 7,
   "metadata": {},
   "outputs": [],
   "source": [
    "def get_errors(train_semester, test_semester, sim):\n",
    "    y_true = []\n",
    "    y_pred = []\n",
    "    gpa = {}\n",
    "    \n",
    "    for student in train_semester:\n",
    "        gpa[student] = get_gpa(train_semester, student)\n",
    "        \n",
    "    for student in train_semester:\n",
    "        recommended_courses = {}\n",
    "        recs = recommendations.getRecommendations(train_semester, student, sim, dgpa=True, gpa=gpa, delta=0.7)\n",
    "            \n",
    "        for rec_grade, rec_course in recs:\n",
    "            recommended_courses.setdefault(rec_course, rec_grade)\n",
    "            \n",
    "        gpa.setdefault(student, get_gpa(train_semester, student))\n",
    "        \n",
    "        if student not in test_semester:\n",
    "            continue\n",
    "        \n",
    "        mean, std_dev = get_grade_stats(train_semester, student)\n",
    "            \n",
    "        for course_code in test_semester[student]:\n",
    "            if course_code in recommended_courses:\n",
    "                rec_grade = recommended_courses[course_code]\n",
    "                if rec_grade < mean - (2 * std_dev) or rec_grade > mean + (2 * std_dev):\n",
    "                    continue\n",
    "                y_pred.append(rec_grade)\n",
    "            else:\n",
    "                rec_grade = gpa[student]\n",
    "                if rec_grade < mean - (2 * std_dev) or rec_grade > mean + (2 * std_dev):\n",
    "                    continue\n",
    "                y_pred.append(rec_grade)\n",
    "            y_true.append(test_semester[student][course_code])\n",
    "        \n",
    "    rmse = np.sqrt(mean_squared_error(y_true, y_pred))\n",
    "    mae = mean_absolute_error(y_true, y_pred)\n",
    "    \n",
    "    return rmse, mae"
   ]
  },
  {
   "cell_type": "code",
   "execution_count": 8,
   "metadata": {},
   "outputs": [],
   "source": [
    "def predict(semester_data, sim):\n",
    "    errors = {'rmse': [], 'mae': []}\n",
    "    train_semester = {}\n",
    "    for i in range(1, len(sorted(semester_data))):\n",
    "        new_semester = semester_data[sorted(semester_data)[i-1]]\n",
    "        for student in new_semester:\n",
    "            if student in train_semester:\n",
    "                train_semester[student].update(new_semester[student])\n",
    "            else:\n",
    "                train_semester[student] = new_semester[student]\n",
    "        test_semester = semester_data[sorted(semester_data)[i]]\n",
    "\n",
    "        # making predictions for every student in training semester\n",
    "        rmse, mae = get_errors(train_semester, test_semester, sim)\n",
    "\n",
    "        errors['rmse'].append(rmse)\n",
    "        errors['mae'].append(mae)\n",
    "    \n",
    "    return errors"
   ]
  },
  {
   "cell_type": "code",
   "execution_count": 16,
   "metadata": {},
   "outputs": [],
   "source": [
    "def weighted_average(errors): \n",
    "    #rmse\n",
    "    a = 1\n",
    "    sum = 0\n",
    "\n",
    "    print(\"weighted average rmse:\")\n",
    "    for i in errors['rmse']:\n",
    "        a += 1\n",
    "        if (a == 2):\n",
    "            sum += 9 * i\n",
    "        if (a == 3):\n",
    "            sum += 8 * i\n",
    "        if (a == 4):\n",
    "            sum += 7 * i\n",
    "        if (a == 5):\n",
    "            sum += 6 * i\n",
    "        if (a == 6):\n",
    "            sum += 8 * i\n",
    "        if (a == 7):\n",
    "            sum += 4 * i\n",
    "\n",
    "    weighted_average_rmse = sum / 42\n",
    "    print(weighted_average_rmse)\n",
    "\n",
    "    # mae\n",
    "    a = 1\n",
    "    sum = 0\n",
    "\n",
    "    print(\"weighted average mae:\")\n",
    "    for i in errors['mae']:\n",
    "        a += 1\n",
    "        if (a == 2):\n",
    "            sum += 9 * i\n",
    "        if (a == 3):\n",
    "            sum += 8 * i\n",
    "        if (a == 4):\n",
    "            sum += 7 * i\n",
    "        if (a == 5):\n",
    "            sum += 6 * i\n",
    "        if (a == 6):\n",
    "            sum += 8 * i\n",
    "        if (a == 7):\n",
    "            sum += 4 * i\n",
    "\n",
    "    weighted_average_mae = sum / 42\n",
    "    print(weighted_average_mae)\n"
   ]
  },
  {
   "cell_type": "code",
   "execution_count": 14,
   "metadata": {},
   "outputs": [],
   "source": [
    "def plot_errors(errors, sim):\n",
    "    n = len(errors['rmse'])\n",
    "    x = np.arange(n)\n",
    "    fig, ax = plt.subplots(figsize=(11, 5.5))\n",
    "    rects1 = ax.bar(x - 0.35/2, errors['rmse'], 0.35, label='RMSE')\n",
    "    rects2 = ax.bar(x + 0.35/2, errors['mae'], 0.35, label='MAE')\n",
    "\n",
    "    for i, v in enumerate(errors['rmse']):\n",
    "        ax.text(i - 0.36, v + 0.01, str(round(v, 2)), fontfamily='serif', fontsize=13, fontweight='bold')\n",
    "    for i, v in enumerate(errors['mae']):\n",
    "        ax.text(i - 0.01, v + 0.01, str(round(v, 2)), fontfamily='serif', fontsize=13, fontweight='bold')\n",
    "\n",
    "    ax.set_ylabel('Error', fontsize=22, fontfamily='serif')\n",
    "    ax.set_title('Error Metrics with N training semesters ({})'.format(sim), fontsize=22, fontfamily='serif')\n",
    "    ax.set_xticks(x)\n",
    "    ax.set_xticklabels(['N={}'.format(i + 1) for i in range(n)], fontsize=22, fontfamily='serif')\n",
    "    ax.set_yticklabels([round(i, 1) for i in ax.get_yticks()], fontsize=22, fontfamily='serif')\n",
    "    ax.tick_params(labelsize=22)\n",
    "    ax.grid(True)\n",
    "    ax.legend(prop={'size': 18, 'family': 'serif'}, loc='center', bbox_to_anchor=(0.5, -0.15), ncol=2)\n"
   ]
  },
  {
   "cell_type": "code",
   "execution_count": 10,
   "metadata": {},
   "outputs": [],
   "source": [
    "results = {}"
   ]
  },
  {
   "cell_type": "code",
   "execution_count": 17,
   "metadata": {},
   "outputs": [
    {
     "name": "stdout",
     "output_type": "stream",
     "text": [
      "weighted average rmse:\n",
      "0.9322556523953041\n",
      "weighted average mae:\n",
      "0.7624271802162373\n"
     ]
    }
   ],
   "source": [
    "errors = predict(semester_data, recommendations.sim_distance)\n",
    "weighted_average(errors)"
   ]
  },
  {
   "cell_type": "code",
   "execution_count": 20,
   "metadata": {},
   "outputs": [],
   "source": [
    "import json\n",
    "# Your results\n",
    "results = {\n",
    "    \"chinese 2017 paper\": {\n",
    "        \"WeightedAvgRMSE\": 0.9322556523953041,\n",
    "        \"WeightedAvgMAE\": 0.7624271802162373\n",
    "    },\n",
    "}\n",
    "\n",
    "# Save to JSON file\n",
    "with open(\"chinese_2017paper.json\", \"w\") as f:\n",
    "    json.dump(results, f, indent=4)\n"
   ]
  },
  {
   "cell_type": "code",
   "execution_count": 15,
   "metadata": {},
   "outputs": [
    {
     "name": "stderr",
     "output_type": "stream",
     "text": [
      "/var/folders/s7/jgc_z9fj1tq65hb0wg4tr7lm0000gn/T/ipykernel_35070/4231461160.py:17: UserWarning: FixedFormatter should only be used together with FixedLocator\n",
      "  ax.set_yticklabels([round(i, 1) for i in ax.get_yticks()], fontsize=22, fontfamily='serif')\n"
     ]
    },
    {
     "data": {
      "image/png": "[encoded data removed]",
      "text/plain": [
       "<Figure size 1100x550 with 1 Axes>"
      ]
     },
     "metadata": {},
     "output_type": "display_data"
    }
   ],
   "source": [
    "errors = predict(semester_data, recommendations.sim_distance)\n",
    "results['Euclidean Distance'] = errors\n",
    "plot_errors(errors, 'Euclidean Distance')"
   ]
  },
  {
   "cell_type": "code",
   "execution_count": 13,
   "metadata": {},
   "outputs": [],
   "source": [
    "import json\n",
    "with open('2017 paper.json', 'w') as fw:\n",
    "    json.dump(results, fw)"
   ]
  }
 ],
 "metadata": {
  "kernelspec": {
   "display_name": "Python 3.11.4 ('base')",
   "language": "python",
   "name": "python3"
  },
  "language_info": {
   "codemirror_mode": {
    "name": "ipython",
    "version": 3
   },
   "file_extension": ".py",
   "mimetype": "text/x-python",
   "name": "python",
   "nbconvert_exporter": "python",
   "pygments_lexer": "ipython3",
   "version": "3.11.4"
  },
  "vscode": {
   "interpreter": {
    "hash": "4a6b4a203dba8dbd3b51a1f65dce59b4625dd99cdb36f1505991052a59cd223b"
   }
  }
 },
 "nbformat": 4,
 "nbformat_minor": 4
}
