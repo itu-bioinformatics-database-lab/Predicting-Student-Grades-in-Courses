{
 "cells": [
  {
   "cell_type": "code",
   "execution_count": null,
   "metadata": {},
   "outputs": [],
   "source": [
    "import json\n",
    "import pandas as pd\n",
    "import numpy as np\n",
    "import matplotlib.pyplot as plt\n",
    "import recommendations\n",
    "from sklearn.cluster import KMeans"
   ]
  },
  {
   "cell_type": "code",
   "execution_count": null,
   "metadata": {},
   "outputs": [],
   "source": [
    "df = pd.read_csv('../datasets/processed_dataset.csv')\n",
    "df = df[['Student Number', 'Course Code', 'Letter Grade', 'Semester', 'Course Credit', 'GPA', 'Completed Credits', 'Department Code']]\n",
    "df"
   ]
  },
  {
   "cell_type": "code",
   "execution_count": null,
   "metadata": {},
   "outputs": [],
   "source": [
    "df = pd.concat([df, pd.get_dummies(df['Department Code'], prefix='Department Code')], axis=1)\n",
    "df.drop(['Department Code'], axis=1, inplace=True)"
   ]
  },
  {
   "cell_type": "code",
   "execution_count": null,
   "metadata": {},
   "outputs": [],
   "source": [
    "numerical_grades = {'A+': 4.1, 'A': 4.0, 'A-': 3.7, 'B+': 3.3, 'B': 3.0, 'B-': 2.7, 'C+': 2.3, 'C': 2.0,\n",
    "                    'C-': 1.7, 'D+': 1.3, 'D': 1.0, 'D-': 0.5, 'F': 0.0}"
   ]
  },
  {
   "cell_type": "code",
   "execution_count": null,
   "metadata": {},
   "outputs": [],
   "source": [
    "course_credits = {}\n",
    "for row_idx in df.index:\n",
    "    course_code = df.iloc[row_idx, 1]\n",
    "    credit = df.iloc[row_idx, 4]    \n",
    "    course_credits[course_code] = credit"
   ]
  },
  {
   "cell_type": "code",
   "execution_count": null,
   "metadata": {},
   "outputs": [],
   "source": [
    "def get_semester_data(semester_name):\n",
    "    semester_data = {}   # semester data in shape {student_number: {course_code: letter_grade, ...}, ...}\n",
    "    \n",
    "    # extracting the instances with the given semester_name from the main dataFrame\n",
    "    dataset = df[df.iloc[:, 3] == semester_name]\n",
    "    dataset.index = range(len(dataset))\n",
    "    \n",
    "    # filling the semester_data dictionary\n",
    "    for row_idx in dataset.index:\n",
    "        student_number = dataset.iloc[row_idx, 0]\n",
    "        course_code = dataset.iloc[row_idx, 1]\n",
    "        letter_grade = dataset.iloc[row_idx, 2]\n",
    "        \n",
    "        semester_data.setdefault(student_number, {})\n",
    "        semester_data[student_number][course_code] = numerical_grades[letter_grade]\n",
    "    \n",
    "    return semester_data"
   ]
  },
  {
   "cell_type": "code",
   "execution_count": null,
   "metadata": {},
   "outputs": [],
   "source": [
    "def get_avg_gpa(train_semester, student):\n",
    "    courses = train_semester[student]\n",
    "    total_credit = 0\n",
    "    weights = 0\n",
    "    for course in courses:\n",
    "        total_credit += course_credits[course]\n",
    "        weights += courses[course] * course_credits[course]\n",
    "    \n",
    "    return weights / total_credit"
   ]
  },
  {
   "cell_type": "code",
   "execution_count": null,
   "metadata": {},
   "outputs": [],
   "source": [
    "def get_grade_stats(semester_data, student):\n",
    "    grade_list = []\n",
    "    \n",
    "    for course in semester_data[student]:\n",
    "        numerical_grade = semester_data[student][course]\n",
    "        grade_list.append(numerical_grade)\n",
    "    \n",
    "    mean = np.mean(grade_list)\n",
    "    std_dev = np.std(grade_list)\n",
    "    \n",
    "    return mean, std_dev"
   ]
  },
  {
   "cell_type": "code",
   "execution_count": null,
   "metadata": {},
   "outputs": [],
   "source": [
    "def fit_cluster(train_sems, num_clusters, training_data, cluster_model):\n",
    "    train_dataset = pd.DataFrame(columns=df.columns)\n",
    "    \n",
    "    # extracting instances from the dataset which should be in training data\n",
    "    for sem in train_sems:\n",
    "        train_dataset = pd.concat([train_dataset, df[df.iloc[:, 3] == sem]], ignore_index=True)\n",
    "\n",
    "    cluster_features = train_dataset[['GPA', 'Completed Credits'] + list(train_dataset.columns[7:])]\n",
    "    \n",
    "    # fitting a clustering model based on GPA, Completed Credits and Departments\n",
    "    fitted_cluster_model = cluster_model(n_clusters=num_clusters).fit(cluster_features)\n",
    "    cluster_labels = fitted_cluster_model.labels_\n",
    "    \n",
    "    cluster_dataset = {}   # splitting the train dataset into sub-dicts based on their predicted cluster label\n",
    "    \n",
    "    # assigning each students' data to their predicted clusters\n",
    "    for i in range(len(cluster_labels)):\n",
    "        cluster_dataset.setdefault(cluster_labels[i], {})\n",
    "        student_number = train_dataset.iloc[i, 0]\n",
    "        cluster_dataset[cluster_labels[i]][student_number] = training_data[student_number]\n",
    "    \n",
    "    return cluster_dataset, fitted_cluster_model"
   ]
  },
  {
   "cell_type": "code",
   "execution_count": null,
   "metadata": {},
   "outputs": [],
   "source": [
    "def cluster_test_data(cluster_model, semester_name):\n",
    "    # extracting all instances with the given semester_name from the main dataFrame\n",
    "    test_dataset = df[df.iloc[:, 3] == semester_name]\n",
    "    test_dataset.index = range(len(test_dataset))\n",
    "    \n",
    "    # predicting the cluster labels of test data using a cluster model fitted on the train data so far\n",
    "    cluster_features = test_dataset[['GPA', 'Completed Credits'] + list(test_dataset.columns[7:])]\n",
    "    cluster_labels = cluster_model.predict(cluster_features)\n",
    "    \n",
    "    # getting the semester data of available students in test semester\n",
    "    semester_data = get_semester_data(semester_name)\n",
    "    \n",
    "    cluster_dataset = {}   # splitting the test dataset into sub-dicts based on their predicted cluster label\n",
    "    \n",
    "    # assigning each students' data to their predicted clusters\n",
    "    for i in range(len(cluster_labels)):\n",
    "        cluster_dataset.setdefault(cluster_labels[i], {})\n",
    "        student_number = test_dataset.iloc[i, 0]\n",
    "        cluster_dataset[cluster_labels[i]][student_number] = semester_data[student_number]\n",
    "        \n",
    "    return cluster_dataset    "
   ]
  },
  {
   "cell_type": "code",
   "execution_count": null,
   "metadata": {},
   "outputs": [],
   "source": [
    "def get_errors(train_semester, test_semester, sim, item_based):\n",
    "    average_gpa = {}\n",
    "    y_true = []\n",
    "    y_pred = []\n",
    "    gpa = {}\n",
    "    \n",
    "    for student in train_semester:\n",
    "        gpa[student] = get_avg_gpa(train_semester, student)\n",
    "    \n",
    "    item_sims = recommendations.calculateSimilarItems(train_semester)\n",
    "    # predicting recommended courses for each student in training data\n",
    "    for student in train_semester:\n",
    "        recommended_courses = {}\n",
    "        \n",
    "        if item_based:\n",
    "            recs = recommendations.getRecommendedItems(train_semester, item_sims, student)\n",
    "        else:\n",
    "            recs = recommendations.getRecommendations(train_semester, student, sim, dgpa=True, gpa=gpa, delta=0.7)\n",
    "        \n",
    "        for rec_grade, rec_course in recs:\n",
    "            recommended_courses.setdefault(rec_course, rec_grade)\n",
    "            \n",
    "        average_gpa.setdefault(student, get_avg_gpa(train_semester, student))\n",
    "        \n",
    "        # skipping students from training data who do not have not taken courses in test data\n",
    "        if student not in test_semester:\n",
    "            continue\n",
    "        \n",
    "        mean, std_dev = get_grade_stats(train_semester, student)\n",
    "            \n",
    "        # checking for students' test data records in recommended courses\n",
    "        for course_code in test_semester[student]:\n",
    "            if course_code in recommended_courses:   # considering the predicted grade if course is available\n",
    "                rec_grade = recommended_courses[course_code]\n",
    "                if rec_grade < mean - (2 * std_dev) or rec_grade > mean + (2 * std_dev):\n",
    "                    continue\n",
    "                y_pred.append(rec_grade)\n",
    "            else:   # considering the average GPA if course is not available in recommended courses\n",
    "                rec_grade = average_gpa[student]\n",
    "                if rec_grade < mean - (2 * std_dev) or rec_grade > mean + (2 * std_dev):\n",
    "                    continue\n",
    "                y_pred.append(rec_grade)\n",
    "            y_true.append(test_semester[student][course_code])\n",
    "            \n",
    "    assert len(y_true) == len(y_pred)   \n",
    "    return y_true, y_pred"
   ]
  },
  {
   "cell_type": "code",
   "execution_count": null,
   "metadata": {},
   "outputs": [],
   "source": [
    "def predict(sim, cluster_model, item_based=False):\n",
    "    predictions = {} # storing error scores in a dict with shape: \n",
    "                      # {num_clusters (k=2,3,...,7): \n",
    "                        # {num_training_semesters (N=1,2,...,7): {'y_true': [], 'y_pred': []}, ...},\n",
    "                      #...}\n",
    "    \n",
    "    sorted_semesters = sorted(set(df.iloc[:, 3]))   # sorting semesters in a time series manner\n",
    "    for num_clusters in range(10, 31, 5):\n",
    "        predictions.setdefault(str(num_clusters), {})\n",
    "        train_semester = {}   # {student_number: {course_code: letter_grade, ...}, ...}\n",
    "        for sem_idx in range(1, len(sorted_semesters)):\n",
    "            predictions[str(num_clusters)].setdefault(str(sem_idx), {'y_true': [], 'y_pred': []})\n",
    "            \n",
    "            # combining all previous semesters in dataset and consider it as training semester\n",
    "            new_semester = get_semester_data(sorted_semesters[sem_idx-1])\n",
    "            for student in new_semester:\n",
    "                if student in train_semester:   # combine data if a student already exist\n",
    "                    train_semester[student].update(new_semester[student])\n",
    "                else:   # create a new key-value pair for students with no record\n",
    "                    train_semester[student] = new_semester[student]\n",
    "            \n",
    "            training_semesters_name = sorted_semesters[:sem_idx]   # names of all training semesters\n",
    "            \n",
    "            # getting the cluster model fitted on training data and each clusters' training data\n",
    "            train_cluster_data, fitted_cluster_model = fit_cluster(training_semesters_name, num_clusters, train_semester, cluster_model)\n",
    "            \n",
    "            # getting the clustered test data\n",
    "            test_semester_name = sorted_semesters[sem_idx]\n",
    "            test_cluster_data = cluster_test_data(fitted_cluster_model, test_semester_name)\n",
    "            \n",
    "            # fitting each cluster label with a similarity metric, and measure the error between the same\n",
    "            # cluster labels in training and test data\n",
    "            for cluster_label in train_cluster_data:\n",
    "                if cluster_label not in test_cluster_data:\n",
    "                    continue\n",
    "                y_true, y_pred = get_errors(train_cluster_data[cluster_label], test_cluster_data[cluster_label], sim, item_based)\n",
    "                predictions[str(num_clusters)][str(sem_idx)]['y_true'] += y_true\n",
    "                predictions[str(num_clusters)][str(sem_idx)]['y_pred'] += y_pred\n",
    "        \n",
    "    return predictions"
   ]
  },
  {
   "cell_type": "markdown",
   "metadata": {},
   "source": [
    "### User-based Collaborative Filtering"
   ]
  },
  {
   "cell_type": "code",
   "execution_count": null,
   "metadata": {},
   "outputs": [],
   "source": [
    "model_predictions = {}"
   ]
  },
  {
   "cell_type": "code",
   "execution_count": null,
   "metadata": {},
   "outputs": [],
   "source": [
    "predictions = predict(recommendations.sim_distance, KMeans)\n",
    "model_predictions['Euclidean Distance'] = predictions"
   ]
  },
  {
   "cell_type": "code",
   "execution_count": null,
   "metadata": {},
   "outputs": [],
   "source": [
    "predictions = predict(recommendations.sim_jaccard, KMeans)\n",
    "model_predictions['Jaccard Index'] = predictions"
   ]
  },
  {
   "cell_type": "code",
   "execution_count": null,
   "metadata": {},
   "outputs": [],
   "source": [
    "predictions = predict(recommendations.sim_pearson, KMeans)\n",
    "model_predictions['Pearson Correlation'] = predictions"
   ]
  },
  {
   "cell_type": "code",
   "execution_count": null,
   "metadata": {},
   "outputs": [],
   "source": [
    "with open('clustering_user_based_collaborative_filtering_WE_results (Student based with KMeans).json', 'w') as fw:\n",
    "    json.dump(model_predictions, fw)"
   ]
  },
  {
   "cell_type": "markdown",
   "metadata": {},
   "source": [
    "### Item-based Collaborative Filtering"
   ]
  },
  {
   "cell_type": "code",
   "execution_count": null,
   "metadata": {},
   "outputs": [],
   "source": [
    "model_predictions = {}"
   ]
  },
  {
   "cell_type": "code",
   "execution_count": null,
   "metadata": {},
   "outputs": [],
   "source": [
    "predictions = predict(recommendations.sim_distance, KMeans, item_based=True)\n",
    "model_predictions['Euclidean Distance'] = predictions"
   ]
  },
  {
   "cell_type": "code",
   "execution_count": null,
   "metadata": {},
   "outputs": [],
   "source": [
    "predictions = predict(recommendations.sim_jaccard, KMeans, item_based=True)\n",
    "model_predictions['Jaccard Index'] = predictions"
   ]
  },
  {
   "cell_type": "code",
   "execution_count": null,
   "metadata": {},
   "outputs": [],
   "source": [
    "predictions = predict(recommendations.sim_pearson, KMeans, item_based=True)\n",
    "model_predictions['Pearson Correlation'] = predictions"
   ]
  },
  {
   "cell_type": "code",
   "execution_count": null,
   "metadata": {},
   "outputs": [],
   "source": [
    "with open('clustering_item_based_collaborative_filtering_results (Student based with KMeans).json', 'w') as fw:\n",
    "    json.dump(model_predictions, fw)"
   ]
  }
 ],
 "metadata": {
  "kernelspec": {
   "display_name": "Python 3",
   "language": "python",
   "name": "python3"
  },
  "language_info": {
   "codemirror_mode": {
    "name": "ipython",
    "version": 3
   },
   "file_extension": ".py",
   "mimetype": "text/x-python",
   "name": "python",
   "nbconvert_exporter": "python",
   "pygments_lexer": "ipython3",
   "version": "3.6.9"
  }
 },
 "nbformat": 4,
 "nbformat_minor": 4
}
